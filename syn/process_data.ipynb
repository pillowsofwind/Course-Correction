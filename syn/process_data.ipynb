{
 "cells": [
  {
   "cell_type": "code",
   "execution_count": 1,
   "metadata": {},
   "outputs": [],
   "source": [
    "\n",
    "\n",
    "import json\n",
    "from itertools import combinations\n",
    "\n",
    "\n",
    "with open('train_data.jsonl', 'r') as f:\n",
    "    lines = f.readlines()\n",
    "\n",
    "\n",
    "with open('dpotrain_dataset.jsonl', 'w') as f1:\n",
    "\n",
    "    for i in range(0, len(lines), 6):\n",
    "        group = lines[i:i+6] \n",
    "        if len(group) < 6:\n",
    "            print(i)\n",
    "            break \n",
    "\n",
    "        for a, b in combinations(range(6), 2):\n",
    "            prompt = json.loads(group[a])['prompt']\n",
    "            chosen = json.loads(group[a])['response']\n",
    "            reject = json.loads(group[b])['response']\n",
    "            data = {\"prompt\": prompt, \"chosen\": chosen, \"rejected\": reject}\n",
    "            f1.write(json.dumps(data) + '\\n')\n",
    "\n"
   ]
  }
 ],
 "metadata": {
  "kernelspec": {
   "display_name": "cys",
   "language": "python",
   "name": "python3"
  },
  "language_info": {
   "codemirror_mode": {
    "name": "ipython",
    "version": 3
   },
   "file_extension": ".py",
   "mimetype": "text/x-python",
   "name": "python",
   "nbconvert_exporter": "python",
   "pygments_lexer": "ipython3",
   "version": "3.8.19"
  }
 },
 "nbformat": 4,
 "nbformat_minor": 2
}
